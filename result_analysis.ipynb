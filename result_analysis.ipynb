{
 "cells": [
  {
   "cell_type": "code",
   "execution_count": 1,
   "id": "17ab82b5-1935-4cb2-98ac-24c133865607",
   "metadata": {
    "tags": []
   },
   "outputs": [],
   "source": [
    "from src.process import *\n",
    "from src.models import *\n",
    "from src.utils import *\n",
    "import torch\n",
    "from torch import nn\n",
    "import torch.nn.functional as F\n",
    "import pandas as pd\n",
    "import os \n",
    "import sys\n",
    "from datasets import load_dataset, Dataset, load_from_disk\n",
    "import numpy as np\n",
    "from torch.autograd import Variable\n",
    "from torch.utils.data import DataLoader\n",
    "from sentence_transformers import SentenceTransformer\n",
    "import random\n",
    "import matplotlib.pyplot as plt\n",
    "\n",
    "device = torch.device(\"cuda:0\" if torch.cuda.is_available() else \"cpu\")"
   ]
  },
  {
   "cell_type": "code",
   "execution_count": 2,
   "id": "9a6eb3cb-e442-49f4-9532-7df99cea650e",
   "metadata": {
    "tags": []
   },
   "outputs": [
    {
     "name": "stdout",
     "output_type": "stream",
     "text": [
      "                encoder  size         desc\n",
      "0      all-MiniLM-L6-v2   384  TO COMPLETE\n",
      "1     all-mpnet-base-v2   768  TO COMPLETE\n",
      "2  all-distilroberta-v1   768  TO COMPLETE\n",
      "3          gtr-t5-large   768  TO COMPLETE\n",
      "4  all-roberta-large-v1  1024  TO COMPLETE\n"
     ]
    }
   ],
   "source": [
    "df = get_encoders()\n",
    "print(df)"
   ]
  },
  {
   "cell_type": "code",
   "execution_count": 3,
   "id": "6be8f7d6-1fb4-4c34-9985-832ddf57fa06",
   "metadata": {
    "tags": []
   },
   "outputs": [],
   "source": [
    "idx_encoder = 3\n",
    "encoder = df.iloc[idx_encoder]['encoder']\n",
    "size_embedding = df.iloc[idx_encoder]['size']"
   ]
  },
  {
   "cell_type": "code",
   "execution_count": 6,
   "id": "8628e6ba-03a9-4a63-b204-40aeab2b6a9f",
   "metadata": {
    "tags": []
   },
   "outputs": [],
   "source": [
    "_, _, test = load_data_embedded(encoder, test_only=True)"
   ]
  },
  {
   "cell_type": "code",
   "execution_count": 4,
   "id": "0f2d4364-cded-48a4-8c0b-2a1822603e38",
   "metadata": {
    "tags": []
   },
   "outputs": [],
   "source": [
    "model = torch.load('models/' + 'biLSTM_200_3_' + encoder,  map_location=torch.device(device))\n",
    "model = model.to(device)"
   ]
  },
  {
   "cell_type": "code",
   "execution_count": 7,
   "id": "b15b7192-28ed-4001-8f2d-9dcf455e04d1",
   "metadata": {},
   "outputs": [],
   "source": [
    "predictions = []\n",
    "for i in range(len(test)):\n",
    "    emb = np.array(test[i]['embeddings'])\n",
    "    emb = torch.from_numpy(emb).to(torch.float32).unsqueeze(0).to(device)\n",
    "    with torch.no_grad():\n",
    "        pred = model(emb)\n",
    "    predictions.append(torch.argmax(pred, axis=1).cpu().numpy())"
   ]
  },
  {
   "cell_type": "code",
   "execution_count": 22,
   "id": "efae1ae8-85d6-4afc-afe5-c65964ba0735",
   "metadata": {
    "tags": []
   },
   "outputs": [],
   "source": [
    "## A toi de jouer"
   ]
  },
  {
   "cell_type": "code",
   "execution_count": null,
   "id": "4e492ab6-6f73-423c-8fa9-162a0821a521",
   "metadata": {},
   "outputs": [],
   "source": []
  },
  {
   "cell_type": "code",
   "execution_count": null,
   "id": "2f9aa633-cf51-4391-ba67-97e6a64add78",
   "metadata": {},
   "outputs": [],
   "source": []
  }
 ],
 "metadata": {
  "kernelspec": {
   "display_name": "Python 3 (ipykernel)",
   "language": "python",
   "name": "python3"
  },
  "language_info": {
   "codemirror_mode": {
    "name": "ipython",
    "version": 3
   },
   "file_extension": ".py",
   "mimetype": "text/x-python",
   "name": "python",
   "nbconvert_exporter": "python",
   "pygments_lexer": "ipython3",
   "version": "3.10.8"
  }
 },
 "nbformat": 4,
 "nbformat_minor": 5
}
